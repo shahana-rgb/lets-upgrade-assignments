{
  "nbformat": 4,
  "nbformat_minor": 0,
  "metadata": {
    "colab": {
      "name": "Data Visualization Assignment 2.ipynb",
      "provenance": [],
      "collapsed_sections": []
    },
    "kernelspec": {
      "name": "python3",
      "display_name": "Python 3"
    },
    "language_info": {
      "name": "python"
    }
  },
  "cells": [
    {
      "cell_type": "code",
      "metadata": {
        "id": "QaL7SgfRXdZv"
      },
      "source": [
        "import matplotlib.pyplot as plt\n",
        "import numpy as np\n",
        "import pandas as pd\n",
        "%matplotlib inline\n",
        "import seaborn as sns\n",
        "from numpy.random import randn, randint, uniform, sample"
      ],
      "execution_count": 1,
      "outputs": []
    },
    {
      "cell_type": "code",
      "metadata": {
        "colab": {
          "base_uri": "https://localhost:8080/",
          "height": 359
        },
        "id": "Oksr7C1bXv1e",
        "outputId": "a37cf8c1-852b-457e-a715-2a046cec4c42"
      },
      "source": [
        "df=pd.DataFrame(randn(10,4),columns=['a','b','c','d'])\n",
        "df"
      ],
      "execution_count": 6,
      "outputs": [
        {
          "output_type": "execute_result",
          "data": {
            "text/html": [
              "<div>\n",
              "<style scoped>\n",
              "    .dataframe tbody tr th:only-of-type {\n",
              "        vertical-align: middle;\n",
              "    }\n",
              "\n",
              "    .dataframe tbody tr th {\n",
              "        vertical-align: top;\n",
              "    }\n",
              "\n",
              "    .dataframe thead th {\n",
              "        text-align: right;\n",
              "    }\n",
              "</style>\n",
              "<table border=\"1\" class=\"dataframe\">\n",
              "  <thead>\n",
              "    <tr style=\"text-align: right;\">\n",
              "      <th></th>\n",
              "      <th>a</th>\n",
              "      <th>b</th>\n",
              "      <th>c</th>\n",
              "      <th>d</th>\n",
              "    </tr>\n",
              "  </thead>\n",
              "  <tbody>\n",
              "    <tr>\n",
              "      <th>0</th>\n",
              "      <td>-2.377197</td>\n",
              "      <td>0.882728</td>\n",
              "      <td>-0.026916</td>\n",
              "      <td>-0.967023</td>\n",
              "    </tr>\n",
              "    <tr>\n",
              "      <th>1</th>\n",
              "      <td>-0.404489</td>\n",
              "      <td>-0.237951</td>\n",
              "      <td>0.006465</td>\n",
              "      <td>1.069285</td>\n",
              "    </tr>\n",
              "    <tr>\n",
              "      <th>2</th>\n",
              "      <td>0.058669</td>\n",
              "      <td>0.369544</td>\n",
              "      <td>-0.156901</td>\n",
              "      <td>0.831377</td>\n",
              "    </tr>\n",
              "    <tr>\n",
              "      <th>3</th>\n",
              "      <td>1.476165</td>\n",
              "      <td>0.214194</td>\n",
              "      <td>-0.832556</td>\n",
              "      <td>0.224682</td>\n",
              "    </tr>\n",
              "    <tr>\n",
              "      <th>4</th>\n",
              "      <td>1.355702</td>\n",
              "      <td>-1.441870</td>\n",
              "      <td>0.709649</td>\n",
              "      <td>-0.017720</td>\n",
              "    </tr>\n",
              "    <tr>\n",
              "      <th>5</th>\n",
              "      <td>0.140649</td>\n",
              "      <td>2.417147</td>\n",
              "      <td>0.547552</td>\n",
              "      <td>0.810600</td>\n",
              "    </tr>\n",
              "    <tr>\n",
              "      <th>6</th>\n",
              "      <td>1.421720</td>\n",
              "      <td>-2.052503</td>\n",
              "      <td>1.771585</td>\n",
              "      <td>1.226830</td>\n",
              "    </tr>\n",
              "    <tr>\n",
              "      <th>7</th>\n",
              "      <td>0.368544</td>\n",
              "      <td>1.063759</td>\n",
              "      <td>-1.120254</td>\n",
              "      <td>-0.012695</td>\n",
              "    </tr>\n",
              "    <tr>\n",
              "      <th>8</th>\n",
              "      <td>-0.471376</td>\n",
              "      <td>0.940777</td>\n",
              "      <td>0.044292</td>\n",
              "      <td>1.020541</td>\n",
              "    </tr>\n",
              "    <tr>\n",
              "      <th>9</th>\n",
              "      <td>1.377627</td>\n",
              "      <td>-0.070249</td>\n",
              "      <td>-0.928060</td>\n",
              "      <td>-1.181815</td>\n",
              "    </tr>\n",
              "  </tbody>\n",
              "</table>\n",
              "</div>"
            ],
            "text/plain": [
              "          a         b         c         d\n",
              "0 -2.377197  0.882728 -0.026916 -0.967023\n",
              "1 -0.404489 -0.237951  0.006465  1.069285\n",
              "2  0.058669  0.369544 -0.156901  0.831377\n",
              "3  1.476165  0.214194 -0.832556  0.224682\n",
              "4  1.355702 -1.441870  0.709649 -0.017720\n",
              "5  0.140649  2.417147  0.547552  0.810600\n",
              "6  1.421720 -2.052503  1.771585  1.226830\n",
              "7  0.368544  1.063759 -1.120254 -0.012695\n",
              "8 -0.471376  0.940777  0.044292  1.020541\n",
              "9  1.377627 -0.070249 -0.928060 -1.181815"
            ]
          },
          "metadata": {
            "tags": []
          },
          "execution_count": 6
        }
      ]
    },
    {
      "cell_type": "code",
      "metadata": {
        "colab": {
          "base_uri": "https://localhost:8080/",
          "height": 278
        },
        "id": "8KYQmyfiYIXp",
        "outputId": "785c75a0-ac5f-43b4-eced-17883afff83d"
      },
      "source": [
        "df.plot.bar()\n",
        "plt.title('Bar graph')\n",
        "plt.show()"
      ],
      "execution_count": 9,
      "outputs": [
        {
          "output_type": "display_data",
          "data": {
            "image/png": "[encoded data removed]",
            "text/plain": [
              "<Figure size 432x288 with 1 Axes>"
            ]
          },
          "metadata": {
            "tags": [],
            "needs_background": "light"
          }
        }
      ]
    },
    {
      "cell_type": "code",
      "metadata": {
        "id": "zZNjdhREY0qB"
      },
      "source": [
        ""
      ],
      "execution_count": null,
      "outputs": []
    }
  ]
}